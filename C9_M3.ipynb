{
 "cells": [
  {
   "cell_type": "code",
   "execution_count": 46,
   "id": "29fcaee3-44d2-48a4-b8db-93113df5664f",
   "metadata": {},
   "outputs": [],
   "source": [
    "import os\n",
    "import shutil"
   ]
  },
  {
   "cell_type": "code",
   "execution_count": 47,
   "id": "81fc9480-f0d9-48a7-b89f-5a2ed0bf035c",
   "metadata": {},
   "outputs": [],
   "source": [
    "i = 0"
   ]
  },
  {
   "cell_type": "code",
   "execution_count": 48,
   "id": "62c32f11-1c1f-4363-abf3-eb20e0f0a462",
   "metadata": {},
   "outputs": [],
   "source": [
    "path = \"dataset/preprocessed_images/\"\n",
    "if not os.path.exists(path + \"/images\"):\n",
    "    os.makedirs(path + \"/images\")\n",
    "if not os.path.exists(path + \"/labels\"):\n",
    "    os.makedirs(path + \"/labels\")"
   ]
  },
  {
   "cell_type": "code",
   "execution_count": 49,
   "id": "c5fdc478-c6d9-4b0c-ba00-fabc813d7281",
   "metadata": {},
   "outputs": [],
   "source": [
    "def print_directory_contents(path): \n",
    "    global i\n",
    "    # сортируем директории и файлы для вывода в алфавитном порядке\n",
    "    sorted_files = sorted(os.listdir(path), key=str.lower)\n",
    "    for child in sorted_files: \n",
    "        child_path = os.path.join(path, child) \n",
    "        # поддиректория внутри директории\n",
    "        if os.path.isdir(child_path): \n",
    "            print(f\"{i}: {child}\") \n",
    "            i += 1\n",
    "            print_directory_contents(child_path) "
   ]
  },
  {
   "cell_type": "raw",
   "id": "0e8b31b4-c36b-451a-8155-5dd5f3a21e69",
   "metadata": {
    "collapsed": true,
    "jupyter": {
     "outputs_hidden": true
    }
   },
   "source": [
    "print_directory_contents(path)"
   ]
  },
  {
   "cell_type": "code",
   "execution_count": 50,
   "id": "0c5bcb6a-d215-41e1-9bb2-95e3cc49d9ee",
   "metadata": {},
   "outputs": [],
   "source": [
    "def make_dat(path2):\n",
    "    path = \"dataset/preprocessed_images/\"\n",
    "    if not os.path.exists(path + \"/images/\" + path2):\n",
    "        os.makedirs(path + \"/images/\" + path2)\n",
    "    if not os.path.exists(path + \"/labels/\" + path2):\n",
    "        os.makedirs(path + \"/labels/\" + path2)\n",
    "    files = os.listdir(path + path2)\n",
    "    for d in files:\n",
    "        fc = 0\n",
    "        for f in os.listdir(path + path2 + d):\n",
    "            fc += 1\n",
    "            shutil.copy2(path + path2 + d + \"/\" + f, path + \"images/\" + path2 + f)\n",
    "            with open(path + \"/labels/\" + path2 + f.replace(\".jpg\", \".txt\"), \"w+\") as file:\n",
    "                cl = d.replace(\"-\", \"\")\n",
    "                cl = cl.replace(\"_\", \"\")\n",
    "                if cl == \"999\":\n",
    "                    cl = \"998\"\n",
    "                else:\n",
    "                    if cl == \"998\":\n",
    "                        cl = \"999\"\n",
    "                file.write(cl + \" 0.0 0.0 1.0 1.0\")"
   ]
  },
  {
   "cell_type": "code",
   "execution_count": 51,
   "id": "fe1b45da-45df-4e14-bac5-90122a981e92",
   "metadata": {},
   "outputs": [],
   "source": [
    "make_dat(\"test/\")"
   ]
  },
  {
   "cell_type": "code",
   "execution_count": 52,
   "id": "400f3819-fb25-40ae-b89d-720c4e12fc0a",
   "metadata": {
    "scrolled": true
   },
   "outputs": [],
   "source": [
    "make_dat(\"train/\")\n",
    "make_dat(\"valid/\")"
   ]
  },
  {
   "cell_type": "markdown",
   "id": "00fb12ea-c655-4ea7-b799-79803b784205",
   "metadata": {},
   "source": [
    "1. Функция обучения модели"
   ]
  },
  {
   "cell_type": "code",
   "execution_count": 8,
   "id": "7c4c7a4f-be0f-4df6-b94f-8d0329512956",
   "metadata": {},
   "outputs": [],
   "source": [
    "from ultralytics import YOLO"
   ]
  },
  {
   "cell_type": "code",
   "execution_count": 9,
   "id": "8c5a6a96-31dd-4ea0-a3e9-47e7c8ab9b78",
   "metadata": {},
   "outputs": [],
   "source": [
    "import yaml"
   ]
  },
  {
   "cell_type": "code",
   "execution_count": 36,
   "id": "9dc19b82-26a1-441f-a6cb-3ba8d2bcfe27",
   "metadata": {},
   "outputs": [],
   "source": [
    "import dill\n",
    "import time\n",
    "from datetime import datetime"
   ]
  },
  {
   "cell_type": "code",
   "execution_count": 10,
   "id": "f4815c12-b0cc-4891-b115-bc321ddeba03",
   "metadata": {},
   "outputs": [],
   "source": [
    "with open('yolo.yaml', 'r') as file:\n",
    "    data = yaml.safe_load(file)\n",
    "data['path'] = os.getcwd() + \"/dataset/preprocessed_images/\" "
   ]
  },
  {
   "cell_type": "code",
   "execution_count": 11,
   "id": "bbd8957b-e73d-4a6d-b679-3aefb44d767b",
   "metadata": {},
   "outputs": [],
   "source": [
    "with open('yolo.yaml', 'w') as file:\n",
    "    yaml.dump(data, file)"
   ]
  },
  {
   "cell_type": "code",
   "execution_count": 12,
   "id": "f00765e7-69f3-48a0-9cba-e1a5eeb88c54",
   "metadata": {},
   "outputs": [],
   "source": [
    "data = {\n",
    "    \"epochs\" : 1\n",
    "}"
   ]
  },
  {
   "cell_type": "code",
   "execution_count": 41,
   "id": "ab8ceef3-8e3f-481e-a67f-46244d4fab19",
   "metadata": {},
   "outputs": [],
   "source": [
    "def fun(m, **kwargs):\n",
    "    models = [\"yolo11n.pt\", \"yolo11m.pt\", \"yolo11l.pt\"]\n",
    "    index = m\n",
    "    if index > 2:\n",
    "        index = 2\n",
    "    if index < 0:\n",
    "        index = 0\n",
    "    epochs = kwargs.get('epochs', 10)\n",
    "    model = YOLO(models[index])\n",
    "    start_time = time.time()\n",
    "    results = model.train(data=\"yolo.yaml\", epochs=epochs)\n",
    "    end_time = time.time()\n",
    "    time = end_time - start_time\n",
    "    etime = time / epochs\n",
    "\n",
    "    pt_file_path = str(res.save_dir) + \"/weights/best.pt\" \n",
    "\n",
    "    # Укажите директорию и имя для сохранения файла в формате dill\n",
    "    save_directory = \"res\"\n",
    "    now = datetime.now()\n",
    "\n",
    "    file_name = now\n",
    "\n",
    "    # Открываем файл для записи (режим 'w' создаст файл, если он не существует)\n",
    "    with open(\"res/\" + file_name, 'w', encoding='utf-8') as file:\n",
    "    # Записываем несколько строк в файл\n",
    "        file.write(f\"Время обучения {time / 60}\\n\")\n",
    "        file.write(f\"Время обучения на эпоху {etime}\\n\")\n",
    "        file.write(f\"F1_score {res.box.f1}\\n\")\n",
    "\n",
    "    # Форматируем время в нужный формат\n",
    "    current_time = now.strftime(\"%H_%M_%S\")\n",
    "    save_filename = current_time + \".dill\"\n",
    "\n",
    "    # Убедитесь, что директория для сохранения существует\n",
    "    os.makedirs(save_directory, exist_ok=True)\n",
    "\n",
    "    # Полный путь для сохранения файла\n",
    "    dill_file_path = os.path.join(save_directory, save_filename)\n",
    "\n",
    "    # Чтение содержимого .pt файла\n",
    "    with open(pt_file_path, \"rb\") as pt_file:\n",
    "        model_data = pt_file.read()\n",
    "\n",
    "    # Сохранение содержимого в формате dill\n",
    "    with open(dill_file_path, \"wb\") as dill_file:\n",
    "        dill.dump(model_data, dill_file)\n",
    "    return dill_file_path, res.box.f1, etime, time / 60"
   ]
  },
  {
   "cell_type": "code",
   "execution_count": 19,
   "id": "362a765a-b18a-4788-be99-d00b5de47e10",
   "metadata": {
    "scrolled": true
   },
   "outputs": [
    {
     "name": "stdout",
     "output_type": "stream",
     "text": [
      "Ultralytics 8.3.70 🚀 Python-3.11.2 torch-2.6.0+cu124 CPU (13th Gen Intel Core(TM) i5-13400)\n",
      "\u001b[34m\u001b[1mengine/trainer: \u001b[0mtask=detect, mode=train, model=yolo11n.pt, data=yolo.yaml, epochs=1, time=None, patience=100, batch=16, imgsz=640, save=True, save_period=-1, cache=False, device=None, workers=8, project=None, name=train18, exist_ok=False, pretrained=True, optimizer=auto, verbose=True, seed=0, deterministic=True, single_cls=False, rect=False, cos_lr=False, close_mosaic=10, resume=False, amp=True, fraction=1.0, profile=False, freeze=None, multi_scale=False, overlap_mask=True, mask_ratio=4, dropout=0.0, val=True, split=val, save_json=False, save_hybrid=False, conf=None, iou=0.7, max_det=300, half=False, dnn=False, plots=True, source=None, vid_stride=1, stream_buffer=False, visualize=False, augment=False, agnostic_nms=False, classes=None, retina_masks=False, embed=None, show=False, save_frames=False, save_txt=False, save_conf=False, save_crop=False, show_labels=True, show_conf=True, show_boxes=True, line_width=None, format=torchscript, keras=False, optimize=False, int8=False, dynamic=False, simplify=True, opset=None, workspace=None, nms=False, lr0=0.01, lrf=0.01, momentum=0.937, weight_decay=0.0005, warmup_epochs=3.0, warmup_momentum=0.8, warmup_bias_lr=0.1, box=7.5, cls=0.5, dfl=1.5, pose=12.0, kobj=1.0, nbs=64, hsv_h=0.015, hsv_s=0.7, hsv_v=0.4, degrees=0.0, translate=0.1, scale=0.5, shear=0.0, perspective=0.0, flipud=0.0, fliplr=0.5, bgr=0.0, mosaic=1.0, mixup=0.0, copy_paste=0.0, copy_paste_mode=flip, auto_augment=randaugment, erasing=0.4, crop_fraction=1.0, cfg=None, tracker=botsort.yaml, save_dir=runs/detect/train18\n",
      "Overriding model.yaml nc=80 with nc=1000\n",
      "\n",
      "                   from  n    params  module                                       arguments                     \n",
      "  0                  -1  1       464  ultralytics.nn.modules.conv.Conv             [3, 16, 3, 2]                 \n",
      "  1                  -1  1      4672  ultralytics.nn.modules.conv.Conv             [16, 32, 3, 2]                \n",
      "  2                  -1  1      6640  ultralytics.nn.modules.block.C3k2            [32, 64, 1, False, 0.25]      \n",
      "  3                  -1  1     36992  ultralytics.nn.modules.conv.Conv             [64, 64, 3, 2]                \n",
      "  4                  -1  1     26080  ultralytics.nn.modules.block.C3k2            [64, 128, 1, False, 0.25]     \n",
      "  5                  -1  1    147712  ultralytics.nn.modules.conv.Conv             [128, 128, 3, 2]              \n",
      "  6                  -1  1     87040  ultralytics.nn.modules.block.C3k2            [128, 128, 1, True]           \n",
      "  7                  -1  1    295424  ultralytics.nn.modules.conv.Conv             [128, 256, 3, 2]              \n",
      "  8                  -1  1    346112  ultralytics.nn.modules.block.C3k2            [256, 256, 1, True]           \n",
      "  9                  -1  1    164608  ultralytics.nn.modules.block.SPPF            [256, 256, 5]                 \n",
      " 10                  -1  1    249728  ultralytics.nn.modules.block.C2PSA           [256, 256, 1]                 \n",
      " 11                  -1  1         0  torch.nn.modules.upsampling.Upsample         [None, 2, 'nearest']          \n",
      " 12             [-1, 6]  1         0  ultralytics.nn.modules.conv.Concat           [1]                           \n",
      " 13                  -1  1    111296  ultralytics.nn.modules.block.C3k2            [384, 128, 1, False]          \n",
      " 14                  -1  1         0  torch.nn.modules.upsampling.Upsample         [None, 2, 'nearest']          \n",
      " 15             [-1, 4]  1         0  ultralytics.nn.modules.conv.Concat           [1]                           \n",
      " 16                  -1  1     32096  ultralytics.nn.modules.block.C3k2            [256, 64, 1, False]           \n",
      " 17                  -1  1     36992  ultralytics.nn.modules.conv.Conv             [64, 64, 3, 2]                \n",
      " 18            [-1, 13]  1         0  ultralytics.nn.modules.conv.Concat           [1]                           \n",
      " 19                  -1  1     86720  ultralytics.nn.modules.block.C3k2            [192, 128, 1, False]          \n",
      " 20                  -1  1    147712  ultralytics.nn.modules.conv.Conv             [128, 128, 3, 2]              \n",
      " 21            [-1, 10]  1         0  ultralytics.nn.modules.conv.Concat           [1]                           \n",
      " 22                  -1  1    378880  ultralytics.nn.modules.block.C3k2            [384, 256, 1, True]           \n",
      " 23        [16, 19, 22]  1    769132  ultralytics.nn.modules.head.Detect           [1000, [64, 128, 256]]        \n",
      "YOLO11n summary: 319 layers, 2,928,300 parameters, 2,928,284 gradients, 8.3 GFLOPs\n",
      "\n",
      "Transferred 448/499 items from pretrained weights\n",
      "Freezing layer 'model.23.dfl.conv.weight'\n"
     ]
    },
    {
     "name": "stderr",
     "output_type": "stream",
     "text": [
      "\u001b[34m\u001b[1mtrain: \u001b[0mScanning /home/c9/Рабочий стол/C9_M3/dataset/preprocessed_images/labels/train.cache... 1000 images, 0 b\u001b[0m\n",
      "\u001b[34m\u001b[1mval: \u001b[0mScanning /home/c9/Рабочий стол/C9_M3/dataset/preprocessed_images/labels/valid.cache... 1000 images, 0 bac\u001b[0m"
     ]
    },
    {
     "name": "stdout",
     "output_type": "stream",
     "text": [
      "Plotting labels to runs/detect/train18/labels.jpg... \n"
     ]
    },
    {
     "name": "stderr",
     "output_type": "stream",
     "text": [
      "\n"
     ]
    },
    {
     "name": "stdout",
     "output_type": "stream",
     "text": [
      "\u001b[34m\u001b[1moptimizer:\u001b[0m 'optimizer=auto' found, ignoring 'lr0=0.01' and 'momentum=0.937' and determining best 'optimizer', 'lr0' and 'momentum' automatically... \n",
      "\u001b[34m\u001b[1moptimizer:\u001b[0m AdamW(lr=1e-05, momentum=0.9) with parameter groups 81 weight(decay=0.0), 88 weight(decay=0.0005), 87 bias(decay=0.0)\n",
      "\u001b[34m\u001b[1mMLflow: \u001b[0mlogging run_id(54db62a59cf946aab8eef561a104b253) to runs/mlflow\n",
      "\u001b[34m\u001b[1mMLflow: \u001b[0mview at http://127.0.0.1:5000 with 'mlflow server --backend-store-uri runs/mlflow'\n",
      "\u001b[34m\u001b[1mMLflow: \u001b[0mdisable with 'yolo settings mlflow=False'\n",
      "Image sizes 640 train, 640 val\n",
      "Using 0 dataloader workers\n",
      "Logging results to \u001b[1mruns/detect/train18\u001b[0m\n",
      "Starting training for 1 epochs...\n",
      "\n",
      "      Epoch    GPU_mem   box_loss   cls_loss   dfl_loss  Instances       Size\n"
     ]
    },
    {
     "name": "stderr",
     "output_type": "stream",
     "text": [
      "        1/1         0G      3.862      7.805      3.929         12        640: 100%|██████████| 63/63 [09:07<0\n",
      "                 Class     Images  Instances      Box(P          R      mAP50  mAP50-95): 100%|██████████| 32/"
     ]
    },
    {
     "name": "stdout",
     "output_type": "stream",
     "text": [
      "                   all       1000       1000          0          0          0          0\n"
     ]
    },
    {
     "name": "stderr",
     "output_type": "stream",
     "text": [
      "\n"
     ]
    },
    {
     "name": "stdout",
     "output_type": "stream",
     "text": [
      "\n",
      "1 epochs completed in 0.398 hours.\n",
      "Optimizer stripped from runs/detect/train18/weights/last.pt, 6.2MB\n",
      "Optimizer stripped from runs/detect/train18/weights/best.pt, 6.2MB\n",
      "\n",
      "Validating runs/detect/train18/weights/best.pt...\n",
      "Ultralytics 8.3.70 🚀 Python-3.11.2 torch-2.6.0+cu124 CPU (13th Gen Intel Core(TM) i5-13400)\n",
      "YOLO11n summary (fused): 238 layers, 2,920,288 parameters, 0 gradients, 8.1 GFLOPs\n"
     ]
    },
    {
     "name": "stderr",
     "output_type": "stream",
     "text": [
      "                 Class     Images  Instances      Box(P          R      mAP50  mAP50-95): 100%|██████████| 32/"
     ]
    },
    {
     "name": "stdout",
     "output_type": "stream",
     "text": [
      "                   all       1000       1000          0          0          0          0\n"
     ]
    },
    {
     "name": "stderr",
     "output_type": "stream",
     "text": [
      "\n"
     ]
    },
    {
     "name": "stdout",
     "output_type": "stream",
     "text": [
      "Speed: 2.1ms preprocess, 141.1ms inference, 0.0ms loss, 4.0ms postprocess per image\n",
      "Results saved to \u001b[1mruns/detect/train18\u001b[0m\n",
      "\u001b[34m\u001b[1mMLflow: \u001b[0mresults logged to runs/mlflow\n",
      "\u001b[34m\u001b[1mMLflow: \u001b[0mdisable with 'yolo settings mlflow=False'\n",
      "Стандартные оценки на валидационной выборке\n",
      "Средняя точность (mAP): 0.0\n",
      "Средняя точность при IoU=0.50: 0.0\n",
      "F1 Score: []\n",
      "Precision: []\n",
      "Recall: []\n"
     ]
    }
   ],
   "source": [
    "fun(0, **data)"
   ]
  },
  {
   "cell_type": "code",
   "execution_count": 45,
   "id": "faa72437-bb57-4459-9736-f5dc200b8747",
   "metadata": {},
   "outputs": [
    {
     "data": {
      "text/plain": [
       "[]"
      ]
     },
     "execution_count": 45,
     "metadata": {},
     "output_type": "execute_result"
    }
   ],
   "source": [
    "res.box.f1"
   ]
  },
  {
   "cell_type": "code",
   "execution_count": null,
   "id": "3bf33304-fc48-4eb0-9de7-e724310aedb4",
   "metadata": {},
   "outputs": [],
   "source": []
  }
 ],
 "metadata": {
  "kernelspec": {
   "display_name": "Python 3 (ipykernel)",
   "language": "python",
   "name": "python3"
  },
  "language_info": {
   "codemirror_mode": {
    "name": "ipython",
    "version": 3
   },
   "file_extension": ".py",
   "mimetype": "text/x-python",
   "name": "python",
   "nbconvert_exporter": "python",
   "pygments_lexer": "ipython3",
   "version": "3.11.2"
  }
 },
 "nbformat": 4,
 "nbformat_minor": 5
}
